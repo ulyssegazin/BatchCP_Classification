{
 "cells": [
  {
   "cell_type": "markdown",
   "id": "46bb4281",
   "metadata": {},
   "source": [
    "# Supplemental Code for \"Powerful batch conformal prediction for classification\" by U. Gazin, R. Heller, E. Roquain and A. Solari."
   ]
  },
  {
   "cell_type": "code",
   "execution_count": 1,
   "id": "3a0a5c63",
   "metadata": {},
   "outputs": [],
   "source": [
    "import random\n",
    "import numpy as np\n",
    "import statsmodels as sm\n",
    "import matplotlib.pyplot as plt\n",
    "from math import factorial\n",
    "import scipy.stats as stat\n",
    "import pandas as pd\n",
    "\n",
    "\n",
    "import sklearn\n",
    "from sklearn.datasets import fetch_openml \n",
    "from sklearn.ensemble import RandomForestClassifier,IsolationForest\n",
    "from sklearn.svm import OneClassSVM\n",
    "\n",
    "from time import perf_counter\n",
    "\n",
    "import seaborn as sns"
   ]
  },
  {
   "cell_type": "markdown",
   "id": "fe7f0456",
   "metadata": {},
   "source": [
    "## Disclaimer on the packages\n",
    "\n",
    "The packages blackbox.py and nn.py in folder source are  based on the codes by Ariane Marandon from the paper \"Selecting informative conformal prediction sets with false coverage rate control\" by Gazin, Heller, Marandon, Roquain (see https://github.com/arianemarandon/infoconf/blob/main/source/nn.py) itself inspired by the code from the paper \"Classification with Valid and Adaptive Coverage\" by Romano, Sesia and Candès (Neurips 2020) (See https://github.com/msesia/arc)."
   ]
  },
  {
   "cell_type": "code",
   "execution_count": 2,
   "id": "0543838c",
   "metadata": {},
   "outputs": [
    {
     "name": "stderr",
     "output_type": "stream",
     "text": [
      "2025-03-09 19:08:46.714752: I tensorflow/core/util/port.cc:153] oneDNN custom operations are on. You may see slightly different numerical results due to floating-point round-off errors from different computation orders. To turn them off, set the environment variable `TF_ENABLE_ONEDNN_OPTS=0`.\n",
      "2025-03-09 19:08:46.724323: E external/local_xla/xla/stream_executor/cuda/cuda_fft.cc:485] Unable to register cuFFT factory: Attempting to register factory for plugin cuFFT when one has already been registered\n",
      "2025-03-09 19:08:46.735533: E external/local_xla/xla/stream_executor/cuda/cuda_dnn.cc:8454] Unable to register cuDNN factory: Attempting to register factory for plugin cuDNN when one has already been registered\n",
      "2025-03-09 19:08:46.738880: E external/local_xla/xla/stream_executor/cuda/cuda_blas.cc:1452] Unable to register cuBLAS factory: Attempting to register factory for plugin cuBLAS when one has already been registered\n",
      "2025-03-09 19:08:46.747352: I tensorflow/core/platform/cpu_feature_guard.cc:210] This TensorFlow binary is optimized to use available CPU instructions in performance-critical operations.\n",
      "To enable the following instructions: AVX2 AVX_VNNI FMA, in other operations, rebuild TensorFlow with the appropriate compiler flags.\n",
      "2025-03-09 19:08:47.309126: W tensorflow/compiler/tf2tensorrt/utils/py_utils.cc:38] TF-TRT Warning: Could not find TensorRT\n"
     ]
    }
   ],
   "source": [
    "import source.black_boxes as bb"
   ]
  },
  {
   "cell_type": "code",
   "execution_count": 3,
   "id": "fec59f92",
   "metadata": {},
   "outputs": [],
   "source": [
    "from GeneralBatchCode import *"
   ]
  },
  {
   "cell_type": "code",
   "execution_count": 4,
   "id": "37a27467",
   "metadata": {},
   "outputs": [],
   "source": [
    "#Setting colors for Graphics\n",
    "\n",
    "colors_blindness = sns.color_palette(\"colorblind\")\n",
    "\n",
    "colorA=colors_blindness[1]\n",
    "colorB=colors_blindness[2]\n",
    "color_Rose=colors_blindness[4]\n",
    "plt.rcParams['text.usetex'] = True\n",
    "plt.rc('text.latex', preamble=r'\\usepackage{bm} \\usepackage{amsfonts}')"
   ]
  },
  {
   "cell_type": "code",
   "execution_count": 5,
   "id": "978b9298",
   "metadata": {},
   "outputs": [],
   "source": [
    "SimesStorey1_2=AdaptiveSimesFunctionGenerator(1/2)\n",
    "SimesStorey5_100=AdaptiveSimesFunctionGenerator(0.05) \n",
    "Quantile1_2=QuantileSimesFunctionGenerator(1/2)\n",
    "Procedure=['Simes', 'Bonf.',  r\"Storey $\\lambda=1/2$\",r\"Storey $\\lambda=5\\%$\",'Median','Fisher']\n",
    "TabFunction=[SimesFunction,BonfFunction,SimesStorey1_2,SimesStorey5_100,Quantile1_2,FisherFunction]"
   ]
  },
  {
   "cell_type": "code",
   "execution_count": 6,
   "id": "6a41bb10",
   "metadata": {},
   "outputs": [],
   "source": [
    "Storey1_2=Storeym0FunctionGenerator(1/2)\n",
    "Storey2_3=Storeym0FunctionGenerator(2/3)"
   ]
  },
  {
   "cell_type": "markdown",
   "id": "521874b9",
   "metadata": {},
   "source": [
    "# Code for nice illustration \n",
    "You can use these codes only when correct labels are known."
   ]
  },
  {
   "cell_type": "code",
   "execution_count": 7,
   "id": "879f99fd",
   "metadata": {},
   "outputs": [],
   "source": [
    "#To Obtain Nices Pictures\n",
    "\n",
    "def VizualisationPredictionSet(alpha,pVal,I,Xtest,ytest,Ncal,TabFunction,NameFunction,GeneralQuantileFunction,nClass,Label,See,Compt='0',SaveFigs=False):\n",
    "    nI=len(I)\n",
    "    nProc=len(TabFunction)\n",
    "    \n",
    "    YPredict=np.append(np.zeros(nI),NameFunction)\n",
    "    for k in range(nI):\n",
    "        YPredict[k]=Label[int(ytest[I[k]])]\n",
    "    \n",
    "    y=np.zeros(nI)\n",
    "    NbCompt=0\n",
    "    nBoucle=nClass**nI\n",
    "    QuantileFunction=GeneralQuantileFunction(alpha,nClass,Ncal,nI,N=10**3)\n",
    "    nPredict=0\n",
    "    pValI=pVal[I]\n",
    "    while NbCompt<nBoucle:\n",
    "        SeeCurrenty=False\n",
    "        \n",
    "        for i in range(nProc):\n",
    "            Function=TabFunction[i]\n",
    "            \n",
    "            if not SeeCurrenty and IndicatorPredictionSet(y, pValI,Function,QuantileFunction,nClass):\n",
    "                SeeCurrenty=True\n",
    "                \n",
    "                ToAdd=[]\n",
    "                for k in range(nI):\n",
    "                    \n",
    "                    ToAdd.append(Label[int(y[k])])\n",
    "                for k in range(nProc):\n",
    "                    ToAdd.append(\"{:.3f}\".format(min(TabFunction[k]( pValI[np.arange(nI),y.astype(int)]),1)))\n",
    "                \n",
    "                YPredict=np.vstack([YPredict,ToAdd])\n",
    "                nPredict+=1\n",
    "\n",
    "\n",
    "\n",
    "        y=CompteurYclass(y,nClass)\n",
    "\n",
    "        NbCompt+=1\n",
    "    \n",
    "    \n",
    "    \n",
    "    \n",
    "    \n",
    "    plt.figure(figsize=(11,3))\n",
    "\n",
    "    \n",
    "    for i in range(nI):\n",
    "        plt.subplot(1,nI,i+1)\n",
    "\n",
    "        See(Xtest[I[i]])\n",
    "        plt.gca().set_title(Label[int(ytest[I[i]])],fontsize=15)\n",
    "\n",
    "    if SaveFigs:\n",
    "        plt.savefig('Images'+Compt+'.pdf',format='pdf')\n",
    "\n",
    "    plt.show()\n",
    "\n",
    "\n",
    "    \n",
    "    \n",
    "    \n",
    "    \n",
    "    \n",
    "    if nPredict>0:\n",
    "        DataFramePval=pd.DataFrame(YPredict[1:],columns=YPredict[0])\n",
    "        DataFramePval.sort_values(by=['Bonf.','Simes'], inplace=True,ascending=[True,True])\n",
    "        if SaveFigs:\n",
    "            \n",
    "            DataFramePval.to_latex(buf='pVal'+Compt+'.txt',index=False,formatters={\"name\": str.upper})\n",
    "\n",
    "\n",
    "        return DataFramePval\n",
    "    else:\n",
    "        return  pd.DataFrame([],columns=YPredict)\n",
    "    \n",
    "    \n",
    "    \n",
    "def VizualisationLowerBoundSet(alpha,DataFramePval,LenI,NameFunction,Label,Compt='0',SaveFigs=False):\n",
    "    \n",
    "    nProc=len(NameFunction)\n",
    "    nLabel=len(Label)\n",
    "    \n",
    "    TabBounds=np.ones((nLabel+1,nProc)).astype(str)\n",
    "    for k in range(nProc):\n",
    "        DFProc=DataFramePval[DataFramePval[NameFunction[k]]>str(alpha)]\n",
    "        YPredictProc=DFProc.iloc[:,:LenI].to_numpy()\n",
    "        nPredict=len(YPredictProc)\n",
    "        Tot=PostHocBoundsLabels(YPredictProc,Label,np.arange(LenI).astype(int))\n",
    "        Low=Tot[0]\n",
    "        Up=Tot[2]\n",
    "    \n",
    "        TabBounds[nLabel][k]=nPredict\n",
    "        for i in range(nLabel):\n",
    "            TabBounds[i][k]=(\"{:.0f}\".format((Low[i]))+' ; '+\"{:.0f}\".format((Up[i])))\n",
    "            \n",
    "    LabelAdd=np.append(Label,'Size')     \n",
    "    DataFrameBounds=pd.DataFrame(TabBounds, index = LabelAdd, columns =NameFunction)\n",
    "        \n",
    "        \n",
    "        \n",
    "    if SaveFigs:\n",
    "            \n",
    "        DataFrameBounds.to_latex(buf='Bounds'+Compt+'.txt',index=True,formatters={\"name\": str.upper})\n",
    "\n",
    "\n",
    "    return DataFrameBounds"
   ]
  },
  {
   "cell_type": "markdown",
   "id": "92fb1781",
   "metadata": {},
   "source": [
    "# Experiments"
   ]
  },
  {
   "cell_type": "markdown",
   "id": "3265a015",
   "metadata": {},
   "source": [
    "We work with only one batch and provide a batch prediction region and bounds."
   ]
  },
  {
   "cell_type": "markdown",
   "id": "d7b7948d",
   "metadata": {},
   "source": [
    "## USPS dataset"
   ]
  },
  {
   "cell_type": "code",
   "execution_count": 8,
   "id": "2f044202",
   "metadata": {},
   "outputs": [
    {
     "name": "stderr",
     "output_type": "stream",
     "text": [
      "/home/ugazin/.local/lib/python3.10/site-packages/sklearn/datasets/_openml.py:303: UserWarning: Multiple active versions of the dataset matching the name usps exist. Versions may be fundamentally different, returning version 2.\n",
      "  warn(\n",
      "/home/ugazin/.local/lib/python3.10/site-packages/sklearn/datasets/_openml.py:1002: FutureWarning: The default value of `parser` will change from `'liac-arff'` to `'auto'` in 1.4. You can set `parser='auto'` to silence this warning. Therefore, an `ImportError` will be raised from 1.4 if the dataset is dense and pandas is not installed. Note that the pandas parser may return different data types. See the Notes Section in fetch_openml's API doc for details.\n",
      "  warn(\n"
     ]
    }
   ],
   "source": [
    "# load dataset\n",
    "\n",
    "datasetUSPS = fetch_openml(name='USPS',  as_frame=False)\n",
    "XUSPS = datasetUSPS.data\n",
    "yUSPS = datasetUSPS.target.astype(float)\n",
    "nClassUSPS=10\n",
    "LabelUSPS=[str(i) for i in range(10)]"
   ]
  },
  {
   "cell_type": "code",
   "execution_count": 9,
   "id": "4fbd34de",
   "metadata": {},
   "outputs": [],
   "source": [
    "#### To see images\n",
    "\n",
    "def SeeUSPS(X):\n",
    "    img=X.reshape(16,16)\n",
    "    plt.imshow(img,cmap='gray')"
   ]
  },
  {
   "cell_type": "code",
   "execution_count": null,
   "id": "e18a2b7e",
   "metadata": {},
   "outputs": [],
   "source": [
    "SeeUSPS(XUSPS[0])"
   ]
  },
  {
   "cell_type": "code",
   "execution_count": null,
   "id": "667162ca",
   "metadata": {},
   "outputs": [],
   "source": [
    "# Split the dataset between training set, calibration set and test set.\n",
    "\n",
    "ncalUSPS=int(np.ceil(7290*2/3))\n",
    "ntrainUSPS=7291-ncalUSPS\n",
    "\n",
    "XUSPStrain=XUSPS[:ntrainUSPS]\n",
    "yUSPStrain=(yUSPS[:ntrainUSPS]-1).astype(int)\n",
    "XUSPSTestCal=XUSPS[ntrainUSPS:]\n",
    "yUSPSTestCal=(yUSPS[ntrainUSPS:]-1).astype(int)\n",
    "XUSPScal=XUSPS[ntrainUSPS:ntrainUSPS+ncalUSPS]\n",
    "yUSPScal=(yUSPS[ntrainUSPS:ncalUSPS+ntrainUSPS]-1).astype(int)\n",
    "\n",
    "\n",
    "XUSPStest=XUSPS[7291:]\n",
    "yUSPStest=(yUSPS[7291:]-1).astype(int)"
   ]
  },
  {
   "cell_type": "code",
   "execution_count": null,
   "id": "02e42522",
   "metadata": {},
   "outputs": [],
   "source": [
    "# train a Support-Vector Classifier\n",
    "\n",
    "ClassifieurUSPS_SVC=bb.SVC(random_state=5)\n",
    "ClassifieurUSPS_SVC.fit(XUSPStrain,yUSPStrain)"
   ]
  },
  {
   "cell_type": "code",
   "execution_count": null,
   "id": "a600cc83",
   "metadata": {},
   "outputs": [],
   "source": [
    "(pValUSPSFull,ncalUSPS)=FullCalibratedpvalues(ClassifieurUSPS_SVC,10,XUSPScal,yUSPScal,ncalUSPS,XUSPStest,2007)"
   ]
  },
  {
   "cell_type": "code",
   "execution_count": null,
   "id": "56bed61f",
   "metadata": {},
   "outputs": [],
   "source": [
    "PredictionBonf=PredictionSet(0.01,pValUSPSFull,np.arange(5).astype(int),ncalUSPS,BonfFunction,AlphaLevel,10)\n",
    "PredictionSimes=PredictionSet(0.01,pValUSPSFull,np.arange(5).astype(int),ncalUSPS,SimesFunction,AlphaLevel,10)\n",
    "PredictionSimesStorey=PredictionSet(0.01,pValUSPSFull,np.arange(5).astype(int),ncalUSPS,SimesStorey1_2,AlphaLevel,10)\n",
    "PredictionMedian=PredictionSet(0.01,pValUSPSFull,np.arange(5).astype(int),ncalUSPS,Quantile1_2,AlphaLevel,10)\n",
    "PredictionFisher=PredictionSet(0.01,pValUSPSFull,np.arange(5).astype(int),ncalUSPS,FisherFunction,AlphaLevel,10)"
   ]
  },
  {
   "cell_type": "code",
   "execution_count": null,
   "id": "84200b26",
   "metadata": {},
   "outputs": [],
   "source": [
    "# To see the test dataset:\n",
    "plt.figure(figsize=(11,3))\n",
    "for i in np.arange(5).astype(int):\n",
    "    plt.subplot(1,5,i+1)\n",
    "\n",
    "    SeeUSPS(XUSPStest[i])\n",
    "\n",
    "plt.show()"
   ]
  },
  {
   "cell_type": "code",
   "execution_count": null,
   "id": "11e9fc8c",
   "metadata": {},
   "outputs": [],
   "source": [
    "print('Size of the batch prediction set with Bonf. procedure is: '+str(len(PredictionBonf)))\n",
    "print('Prediction set with the Bonf. procedure:')\n",
    "print(PredictionBonf)\n",
    "\n",
    "BoundsBonf=PostHocBounds(PredictionBonf,10,range(5))\n",
    "print('Lower bounds with Bonf. procedure :' +str(BoundsBonf[0]))\n",
    "print('Upper bounds with Bonf. procedure :' +str(BoundsBonf[2]))"
   ]
  },
  {
   "cell_type": "code",
   "execution_count": null,
   "id": "12d9d929",
   "metadata": {},
   "outputs": [],
   "source": [
    "print('Size of the batch prediction set with Simes procedure is: '+str(len(PredictionSimes)))\n",
    "print('Prediction set with the Simes procedure:')\n",
    "print(PredictionSimes)\n",
    "\n",
    "BoundsSimes=PostHocBounds(PredictionSimes,10,range(5))\n",
    "print('Lower bounds with Simes procedure :' +str(BoundsSimes[0]))\n",
    "print('Upper bounds with Simes procedure :' +str(BoundsSimes[2]))"
   ]
  },
  {
   "cell_type": "code",
   "execution_count": null,
   "id": "b54c15e5",
   "metadata": {},
   "outputs": [],
   "source": [
    "print('Size of the batch prediction set with Storey procedure is: '+str(len(PredictionSimesStorey)))\n",
    "print('Prediction set with the Storey procedure:')\n",
    "print(PredictionSimesStorey)\n",
    "\n",
    "BoundsSimesStorey=PostHocBounds(PredictionBonf,10,range(5))\n",
    "print('Lower bounds with Storey procedure :' +str(BoundsSimesStorey[0]))\n",
    "print('Upper bounds with Storey procedure :' +str(BoundsSimesStorey[2]))"
   ]
  },
  {
   "cell_type": "code",
   "execution_count": null,
   "id": "c2b0523d",
   "metadata": {},
   "outputs": [],
   "source": [
    "print('Size of the batch prediction set with Median procedure is: '+str(len(PredictionMedian)))\n",
    "print('Prediction set with the Median procedure:')\n",
    "print(PredictionMedian)\n",
    "\n",
    "BoundsMedian=PostHocBounds(PredictionBonf,10,range(5))\n",
    "print('Lower bounds with Median procedure :' +str(BoundsMedian[0]))\n",
    "print('Upper bounds with Median procedure :' +str(BoundsMedian[2]))"
   ]
  },
  {
   "cell_type": "code",
   "execution_count": null,
   "id": "47849ac2",
   "metadata": {},
   "outputs": [],
   "source": [
    "print('Size of the batch prediction set with Fisher procedure is: '+str(len(PredictionFisher)))\n",
    "print('Prediction set with the Fisher procedure:')\n",
    "print(PredictionFisher)\n",
    "\n",
    "BoundsFisher=PostHocBounds(PredictionBonf,10,range(5))\n",
    "print('Lower bounds with Fisher procedure :' +str(BoundsFisher[0]))\n",
    "print('Upper bounds with Fisher procedure :' +str(BoundsFisher[2]))"
   ]
  },
  {
   "cell_type": "code",
   "execution_count": null,
   "id": "3b4958ba",
   "metadata": {},
   "outputs": [],
   "source": [
    "(pValClassUSPS,ncalClassUSPS)=ClassCalibratedpvalues(ClassifieurUSPS_SVC,nClassUSPS,XUSPScal,yUSPScal,ncalUSPS,XUSPStest,2007)"
   ]
  },
  {
   "cell_type": "code",
   "execution_count": null,
   "id": "9c4dfdc2",
   "metadata": {},
   "outputs": [],
   "source": [
    "pVal175=(VizualisationPredictionSet(0.05,pValClassUSPS,(np.arange(5)+175).astype(int),XUSPStest,yUSPStest,ncalClassUSPS,TabFunction,Procedure,AlphaLevel,nClassUSPS,LabelUSPS,SeeUSPS,'USPS_175'))"
   ]
  },
  {
   "cell_type": "code",
   "execution_count": null,
   "id": "d0519d2f",
   "metadata": {},
   "outputs": [],
   "source": [
    "pVal175"
   ]
  },
  {
   "cell_type": "code",
   "execution_count": null,
   "id": "8f503df1",
   "metadata": {},
   "outputs": [],
   "source": [
    "VizualisationLowerBoundSet(0.05,pVal175,10,Procedure,LabelUSPS)"
   ]
  },
  {
   "cell_type": "markdown",
   "id": "beaccd8d",
   "metadata": {},
   "source": [
    "## CIFAR Dataset"
   ]
  },
  {
   "cell_type": "code",
   "execution_count": null,
   "id": "d8b09734",
   "metadata": {},
   "outputs": [],
   "source": [
    "datasetCIFAR = fetch_openml(name='CIFAR_10', as_frame=False)\n",
    "XALLCIFAR = datasetCIFAR.data\n",
    "yALLCIFAR = datasetCIFAR.target.astype(float)\n",
    "\n",
    "UsefulData=(yALLCIFAR==2)+(yALLCIFAR==3)+(yALLCIFAR==5)\n",
    "UsefulIndices=np.arange(len(yALLCIFAR))[UsefulData]\n",
    "yCIFAR=np.array(yALLCIFAR)[UsefulIndices]\n",
    "XCIFAR=XALLCIFAR[UsefulData]\n",
    "yCIFAR=yALLCIFAR[UsefulData]\n",
    "yCIFAR[yCIFAR==2]=0\n",
    "yCIFAR[yCIFAR==3]=1\n",
    "yCIFAR[yCIFAR==5]=2\n",
    "\n",
    "nClassCIFAR=3\n",
    "LabelCIFAR=['Bird','Cat','Dog']"
   ]
  },
  {
   "cell_type": "code",
   "execution_count": null,
   "id": "8cac9c3a",
   "metadata": {},
   "outputs": [],
   "source": [
    "len(yALLCIFAR)"
   ]
  },
  {
   "cell_type": "code",
   "execution_count": null,
   "id": "056023e2",
   "metadata": {},
   "outputs": [],
   "source": [
    "#### To see images\n",
    "\n",
    "def SeeCIFAR(X):\n",
    "    img = X.reshape(3,32,32).astype(int)\n",
    "    plt.imshow(img.transpose(1,2,0))"
   ]
  },
  {
   "cell_type": "code",
   "execution_count": null,
   "id": "4d4cdcaf",
   "metadata": {},
   "outputs": [],
   "source": [
    "SeeCIFAR(XCIFAR[0])"
   ]
  },
  {
   "cell_type": "code",
   "execution_count": null,
   "id": "83bed23e",
   "metadata": {},
   "outputs": [],
   "source": [
    "ntotCIFAR=len(yCIFAR)\n",
    "nClassCIFAR=3\n",
    "nTestCIFAR=3000\n",
    "prop=2/3\n",
    "ncalCIFAR=int(np.ceil((ntotCIFAR-nTestCIFAR)*prop))\n",
    "ntrainCIFAR=int(ntotCIFAR-nTestCIFAR-ncalCIFAR)\n",
    "\n",
    "print(\"ntrain=\"+str(ntrainCIFAR)+\" ncal=\"+str(ncalCIFAR) )\n",
    "\n",
    "\n",
    "XCIFARtrain=XCIFAR[:ntrainCIFAR]\n",
    "yCIFARtrain=(yCIFAR[:ntrainCIFAR]).astype(int)\n",
    "\n",
    "\n",
    "XCIFARcal=XCIFAR[ntrainCIFAR:ntrainCIFAR+ncalCIFAR]\n",
    "yCIFARcal=(yCIFAR[ntrainCIFAR:ncalCIFAR+ntrainCIFAR]).astype(int)\n",
    "\n",
    "\n",
    "XCIFARtest=XCIFAR[ncalCIFAR+ntrainCIFAR:]\n",
    "yCIFARtest=(yCIFAR[ncalCIFAR+ntrainCIFAR:]).astype(int)\n",
    "\n",
    "XCIFARtestcal=XCIFAR[ntrainCIFAR:]\n",
    "yCIFARtestcal=yCIFAR[ntrainCIFAR:].astype(int)"
   ]
  },
  {
   "cell_type": "code",
   "execution_count": null,
   "id": "7212ba32",
   "metadata": {},
   "outputs": [],
   "source": [
    "Classifieur_CIFAR=bb.CNNkeras(3,32)\n",
    "Classifieur_CIFAR.fit(XCIFARtrain,yCIFARtrain)"
   ]
  },
  {
   "cell_type": "code",
   "execution_count": null,
   "id": "ed0138c9",
   "metadata": {},
   "outputs": [],
   "source": [
    "LenI=8\n",
    "Cal=10000\n",
    "UniI=np.arange(LenI).astype(int)\n",
    "\n",
    "TotChoice=np.random.choice(len(yCIFARtestcal),size=LenI+Cal,replace=False)\n",
    "I=TotChoice[:LenI]\n",
    "J=TotChoice[LenI:]\n",
    "XtestCurr=XCIFARtestcal[I]\n",
    "ytestCurr=yCIFARtestcal[I]\n",
    "XcalCurr=XCIFARtestcal[J]\n",
    "ycalCurr=yCIFARtestcal[J]\n",
    "    \n",
    "(pValClassCIFAR,ncalClassCIFAR)=ClassCalibratedpvalues(Classifieur_CIFAR,nClassCIFAR,XcalCurr,ycalCurr,Cal,XtestCurr,LenI)\n",
    "pvalPredictionSet=(VizualisationPredictionSet(0.1,pValClassCIFAR,UniI,XtestCurr,ytestCurr,ncalClassCIFAR,TabFunction,Procedure,AlphaLevel,nClassCIFAR,LabelCIFAR,SeeCIFAR,str(I)))\n",
    "\n",
    "Bounds=(VizualisationLowerBoundSet(0.1,pvalPredictionSet,LenI,Procedure,LabelCIFAR,str(I)))"
   ]
  },
  {
   "cell_type": "code",
   "execution_count": null,
   "id": "4652d88c",
   "metadata": {},
   "outputs": [],
   "source": [
    "pvalPredictionSet"
   ]
  },
  {
   "cell_type": "code",
   "execution_count": null,
   "id": "92439d58",
   "metadata": {},
   "outputs": [],
   "source": [
    "Bounds"
   ]
  },
  {
   "cell_type": "markdown",
   "id": "1a70f3e0",
   "metadata": {},
   "source": [
    "# Large sample study of the procedure"
   ]
  },
  {
   "cell_type": "markdown",
   "id": "6867c556",
   "metadata": {},
   "source": [
    "We provide functions to obtain the coverage, a 'power' criteria, and the size of the prediction set when doing repeated experiments.\n",
    "In the paper we display graphics of the size, which can be obtained on the file 'Illustration_AISTATS25.ipynb' in the folder 'Illustration'.\n",
    "\n",
    "\n",
    "Running these codes on a standard laptop can take some hours or days if the number of $N$ of replication, the size of the array Alpha which contained all the level $\\alpha$ we want to test, the number of class or the size of the batch are too big"
   ]
  },
  {
   "cell_type": "code",
   "execution_count": null,
   "id": "5d0ec735",
   "metadata": {},
   "outputs": [],
   "source": [
    "from LargeSampleCode import *"
   ]
  },
  {
   "cell_type": "code",
   "execution_count": null,
   "id": "f7550a24",
   "metadata": {},
   "outputs": [],
   "source": [
    "AlphaViolin=np.array([0.01,0.05,0.1])\n",
    "AlphaBis=np.linspace(0.01,0.1,50)\n",
    "#np.save('AlphaBis.npy',AlphaBis)"
   ]
  },
  {
   "cell_type": "code",
   "execution_count": null,
   "id": "d18ba2d1",
   "metadata": {
    "scrolled": true
   },
   "outputs": [],
   "source": [
    "(TotCovCIFAR_2000_5,TotPowerCIFAR_2000_5,TotnPredictCIFAR_2000_5)=PowerAndCoverage3MethodsRandomized(AlphaBis,5,2000,XCIFARtestcal,yCIFARtestcal,ClassCalibratedpvalues,Classifieur_CIFAR,TabFunction,AlphaLevel,3,N=500)\n",
    "#np.save('TotCovCIFAR_2000_5.npy',TotCovCIFAR_2000_5)\n",
    "#np.save('TotPowerCIFAR_2000_5.npy',TotPowerCIFAR_2000_5)\n",
    "#np.save('TotnPredictCIFAR_2000_5.npy',TotnPredictCIFAR_2000_5)"
   ]
  },
  {
   "cell_type": "code",
   "execution_count": null,
   "id": "2cd0f08f",
   "metadata": {},
   "outputs": [],
   "source": [
    "(TotCovUSPS_700_3,TotPowerUSPS_700_3,TotnPredictUSPS_700_3)=PowerAndCoverage3MethodsRandomized(AlphaBis,3,700,XUSPSTestCal,yUSPSTestCal,ClassCalibratedpvalues,ClassifieurUSPS_SVC,TabFunction,AlphaLevel,10,N=500)\n",
    "#np.save('TotCovUSPS_700_3.npy',TotCovUSPS_700_3)\n",
    "#np.save('TotPowerUSPS_700_3.npy',TotPowerUSPS_700_3)\n",
    "#np.save('TotnPredictUSPS_700_3.npy',TotnPredictUSPS_700_3)"
   ]
  },
  {
   "cell_type": "markdown",
   "id": "eb508658",
   "metadata": {},
   "source": [
    "# Unbalanced class :  Large sample study of the procedure"
   ]
  },
  {
   "cell_type": "markdown",
   "id": "bc317ca6",
   "metadata": {},
   "source": [
    "## Cifar: Calibration with everyone, test only with cat and dog"
   ]
  },
  {
   "cell_type": "code",
   "execution_count": null,
   "id": "572c826b",
   "metadata": {},
   "outputs": [],
   "source": [
    "ClassifiedCIFAR=(np.where(yCIFARtestcal==0)[0],(np.where(yCIFARtestcal==1)[0]),np.where(yCIFARtestcal==2)[0])\n"
   ]
  },
  {
   "cell_type": "code",
   "execution_count": null,
   "id": "4f687941",
   "metadata": {},
   "outputs": [],
   "source": [
    "AlphaTest=[0.1]\n",
    "TabFunctionTest=[SimesFunction,BonfFunction]"
   ]
  },
  {
   "cell_type": "code",
   "execution_count": null,
   "id": "056b1b2f",
   "metadata": {},
   "outputs": [],
   "source": [
    "PowerAndCoverage_Full_v_Class(AlphaTest,3,100,np.array([0.3,0.3,0.3]),np.array([0.5,0.5,0]),XCIFARtestcal,yCIFARtestcal,ClassifiedCIFAR,Classifieur_CIFAR,TabFunctionTest,AlphaLevel,3,N=10**1)"
   ]
  },
  {
   "cell_type": "code",
   "execution_count": null,
   "id": "3eefb946",
   "metadata": {
    "scrolled": true
   },
   "outputs": [],
   "source": [
    "(TotCoverage3,TotPower3,TotnPredict3)=PowerAndCoverage_Full_v_Class(AlphaViolin,5,2000,np.array([0.3,0.3,0.3]),np.array([0.5,0.6,0]),XCIFARtestcal,yCIFARtestcal,ClassifiedCIFAR,Classifieur_CIFAR,TabFunction,AlphaLevel,3,N=10**3)"
   ]
  },
  {
   "cell_type": "code",
   "execution_count": null,
   "id": "e692ce18",
   "metadata": {},
   "outputs": [],
   "source": [
    "#np.save('TotCovCIFAR_2000_03_03_03_5_05_06_00_N1000.npy',TotCoverage3)\n",
    "#np.save('TotPowerCIFAR_2000_03_03_03_5_05_06_00_N1000.npy',TotPower3)\n",
    "#np.save('TotnPredictCIFAR_2000_03_03_03_5_05_06_00_N1000.npy',TotnPredict3)"
   ]
  },
  {
   "cell_type": "code",
   "execution_count": null,
   "id": "ff9ddd6a",
   "metadata": {
    "scrolled": true
   },
   "outputs": [],
   "source": [
    "(TotCoverage_2,TotPower_2,TotnPredict_2)=PowerAndCoverage_Full_v_Class(AlphaViolin,5,2000,np.array([0.1,0.3,0.6]),np.array([0.9,0.2,0.2]),XCIFARtestcal,yCIFARtestcal,ClassifiedCIFAR,Classifieur_CIFAR,TabFunction,AlphaLevel,3,N=10**3)"
   ]
  },
  {
   "cell_type": "code",
   "execution_count": null,
   "id": "c2ed38bd",
   "metadata": {},
   "outputs": [],
   "source": [
    "#np.save('TotCovCIFAR_2000_01_03_06_5_09_02_02_N1000.npy',TotCoverage_2)\n",
    "#np.save('TotPowerCIFAR_2000_01_03_06_5_09_02_02_N1000.npy',TotPower_2)\n",
    "#np.save('TotnPredictCIFAR_2000_01_03_06_5_09_02_02_N1000.npy',TotnPredict_2)"
   ]
  },
  {
   "cell_type": "code",
   "execution_count": null,
   "id": "50f33760",
   "metadata": {},
   "outputs": [],
   "source": [
    "AlphaViolin=[0.01,0.05,0.1]\n"
   ]
  },
  {
   "cell_type": "code",
   "execution_count": null,
   "id": "d8674474",
   "metadata": {
    "scrolled": true
   },
   "outputs": [],
   "source": [
    "(TotCoverage_AlphaBis,TotPower_AlphaBis,TotnPredict_AlphaBis)=PowerAndCoverage_Full_v_Class(AlphaBis,5,2000,np.array([0.1,0.3,0.6]),np.array([0.9,0.2,0.2]),XCIFARtestcal,yCIFARtestcal,ClassifiedCIFAR,Classifieur_CIFAR,TabFunction,AlphaLevel,3,N=10**3)"
   ]
  },
  {
   "cell_type": "code",
   "execution_count": null,
   "id": "1bdd486f",
   "metadata": {},
   "outputs": [],
   "source": [
    "#np.save('TotCovCIFAR_TabFunctionAlphaBis_2000_01_03_06_5_09_02_02_N1000.npy',TotCoverage_AlphaBis)\n",
    "#np.save('TotPowerCIFAR_TabFunctionAlphaBis_2000_01_03_06_5_09_02_02_N1000.npy',TotPower_AlphaBis)\n",
    "#np.save('TotnPredictCIFAR_TabFunctionAlphaBis_2000_01_03_06_5_09_02_02_N1000.npy',TotnPredict_AlphaBis)"
   ]
  },
  {
   "cell_type": "markdown",
   "id": "b70da89d",
   "metadata": {},
   "source": [
    "# $\\lambda$ influence for $3$ different $\\alpha$"
   ]
  },
  {
   "cell_type": "code",
   "execution_count": null,
   "id": "6b92e1c8",
   "metadata": {},
   "outputs": [],
   "source": [
    "QuantileSimesTab=[QuantileSimesFunctionGenerator(AlphaViolin[0]),QuantileSimesFunctionGenerator(AlphaViolin[1]),QuantileSimesFunctionGenerator(AlphaViolin[2]),Quantile1_2,QuantileSimesFunctionGenerator(0.9)]"
   ]
  },
  {
   "cell_type": "code",
   "execution_count": null,
   "id": "8b22d4d8",
   "metadata": {},
   "outputs": [],
   "source": [
    "StoreySimesTab=[AdaptiveSimesFunctionGenerator(AlphaViolin[0]),AdaptiveSimesFunctionGenerator(AlphaViolin[1]),AdaptiveSimesFunctionGenerator(AlphaViolin[2]),SimesStorey1_2,AdaptiveSimesFunctionGenerator(0.9)]"
   ]
  },
  {
   "cell_type": "code",
   "execution_count": null,
   "id": "d2a5d94c",
   "metadata": {},
   "outputs": [],
   "source": [
    "TwoProcedure=np.append(QuantileSimesTab,StoreySimesTab)"
   ]
  },
  {
   "cell_type": "code",
   "execution_count": null,
   "id": "f3e28085",
   "metadata": {},
   "outputs": [],
   "source": [
    "SimesBonfFisherTwoProcedure=np.append([SimesFunction,BonfFunction,FisherFunction],TwoProcedure)"
   ]
  },
  {
   "cell_type": "code",
   "execution_count": null,
   "id": "bbcd4415",
   "metadata": {},
   "outputs": [],
   "source": [
    "SimesBonfFisherTwoProcedure"
   ]
  },
  {
   "cell_type": "code",
   "execution_count": null,
   "id": "9321e542",
   "metadata": {
    "scrolled": true
   },
   "outputs": [],
   "source": [
    "(TotCovCIFARD_2000_5_lambdaAlphaBIS,TotPowerCIFAR_2000_5_lambdaAlphaBIS,TotnPredictCIFAR_2000_5_lambdaAlphaBIS)=PowerAndCoverage3MethodsRandomized(AlphaBis,5,2000,XCIFARtestcal,yCIFARtestcal,ClassCalibratedpvalues,Classifieur_CIFAR,SimesBonfFisherTwoProcedure,AlphaLevel,3,N=500)\n"
   ]
  },
  {
   "cell_type": "code",
   "execution_count": null,
   "id": "13d75af1",
   "metadata": {},
   "outputs": [],
   "source": [
    "#np.save('TotCovCIFAR_2000_5_lambdaAllProcess_AlphaBis_N500.npy',TotCovCIFARD_2000_5_lambdaAlphaBIS)\n",
    "#np.save('TotPowerCIFAR_2000_5_lambdaAllProcess_AlphaBis_N500.npy',TotPowerCIFAR_2000_5_lambdaAlphaBIS)\n",
    "#np.save('TotnPredictCIFAR_2000_5_lambdaAllProcess_AlphaBis_N500.npy',TotnPredictCIFAR_2000_5_lambdaAlphaBIS)"
   ]
  },
  {
   "cell_type": "code",
   "execution_count": null,
   "id": "fd768f51",
   "metadata": {},
   "outputs": [],
   "source": [
    "(TotCovCIFARD_2000_5_lambdaTest,TotPowerCIFAR_2000_5_lambdaTest,TotnPredictCIFAR_2000_5_lambdaTest)=PowerAndCoverage3MethodsRandomized(AlphaViolin,5,2000,XCIFARtestcal,yCIFARtestcal,ClassCalibratedpvalues,Classifieur_CIFAR,SimesBonfFisherTwoProcedure,AlphaLevel,3,N=1000)\n"
   ]
  },
  {
   "cell_type": "code",
   "execution_count": null,
   "id": "e8eb05b4",
   "metadata": {},
   "outputs": [],
   "source": [
    "#np.save('TotCovCIFAR_2000_5_lambdaAllProcess_N1000.npy',TotCovCIFARD_2000_5_lambdaTest)\n",
    "#np.save('TotPowerCIFAR_2000_5_lambdaAllProcess_N1000.npy',TotPowerCIFAR_2000_5_lambdaTest)\n",
    "#np.save('TotnPredictCIFAR_2000_5_lambdaAllProcess_N1000.npy',TotnPredictCIFAR_2000_5_lambdaTest)"
   ]
  },
  {
   "cell_type": "code",
   "execution_count": null,
   "id": "6b0e9cd1",
   "metadata": {},
   "outputs": [],
   "source": [
    "(TotCovCIFAR_2000_5_lambdaFull,TotPowerCIFAR_2000_5_lambdaFull,TotnPredictCIFAR_2000_5_lambdaFull)=PowerAndCoverage3MethodsRandomized(AlphaViolin,5,2000,XCIFARtestcal,yCIFARtestcal,FullCalibratedpvalues,Classifieur_CIFAR,TwoProcedure,AlphaLevel,3,N=500)\n",
    "#np.save('TotCovCIFAR_2000_5_lambdaFull.npy',TotCovCIFAR_2000_5_lambdaFull)\n",
    "#np.save('TotPowerCIFAR_2000_5_lambdaFull.npy',TotPowerCIFAR_2000_5_lambdaFull)\n",
    "#np.save('TotnPredictCIFAR_2000_5_lambdaFull.npy',TotnPredictCIFAR_2000_5_lambdaFull)"
   ]
  },
  {
   "cell_type": "code",
   "execution_count": null,
   "id": "34b681ff",
   "metadata": {
    "scrolled": true
   },
   "outputs": [],
   "source": [
    "(TotCovUSPS_700_3_lambdaAllProcessClassAlphaBIS,TotPowerUSPS_700_3_lambdaAllProcessClassAlphaBIS,TotnPredictUSPS_700_3_lambdaAllProcessClassAlphaBIS)=PowerAndCoverage3MethodsRandomized(AlphaBis,3,700,XUSPSTestCal,yUSPSTestCal,ClassCalibratedpvalues,ClassifieurUSPS_SVC,SimesBonfFisherTwoProcedure,AlphaLevel,10,N=500)"
   ]
  },
  {
   "cell_type": "code",
   "execution_count": null,
   "id": "0574db97",
   "metadata": {},
   "outputs": [],
   "source": [
    "#np.save('TotCovUSPS_700_3_lambdaAllProcessClass_AlphaBis_N500.npy',TotCovUSPS_700_3_lambdaAllProcessClassAlphaBIS)\n",
    "#np.save('TotPowerUSPS_700_3_lambdaAllProcessClass_AlphaBis_N500.npy',TotPowerUSPS_700_3_lambdaAllProcessClassAlphaBIS)\n",
    "#np.save('TotnPredictUSPS_700_3_lambdaAllProcessClass_AlphaBis_N500.npy',TotnPredictUSPS_700_3_lambdaAllProcessClassAlphaBIS)"
   ]
  },
  {
   "cell_type": "code",
   "execution_count": null,
   "id": "618aa610",
   "metadata": {},
   "outputs": [],
   "source": [
    "(TotCovUSPS_700_3_lambdaFull,TotPowerUSPS_700_3_lambdaFull,TotnPredictUSPS_700_3_lambdaFull)=PowerAndCoverage3MethodsRandomized(AlphaViolin,3,700,XUSPSTestCal,yUSPSTestCal,FullCalibratedpvalues,ClassifieurUSPS_SVC,TwoProcedure,AlphaLevel,10,N=500)"
   ]
  },
  {
   "cell_type": "code",
   "execution_count": null,
   "id": "3c7c3222",
   "metadata": {},
   "outputs": [],
   "source": [
    "#np.save('TotCovUSPS_700_3_lambdaFull.npy',TotCovUSPS_700_3_lambdaFull)\n",
    "#np.save('TotPowerUSPS_700_3_lambdaFull.npy',TotPowerUSPS_700_3_lambdaFull)\n",
    "#np.save('TotnPredictUSPS_700_3_lambdaFull.npy',TotnPredictUSPS_700_3_lambdaFull)"
   ]
  },
  {
   "cell_type": "markdown",
   "id": "d5e92e0d",
   "metadata": {},
   "source": [
    "# Batch Scores with the LRT"
   ]
  },
  {
   "cell_type": "code",
   "execution_count": null,
   "id": "01bc8f5f",
   "metadata": {},
   "outputs": [],
   "source": [
    "Y=LRTBatchPrediction(0.1,1000,Classifieur_CIFAR,XCIFARcal,yCIFARcal.astype(int),XCIFARtest[:5],3)"
   ]
  },
  {
   "cell_type": "code",
   "execution_count": null,
   "id": "c78fb95f",
   "metadata": {},
   "outputs": [],
   "source": [
    "ScoreOpposite=Classifieur_CIFAR.predict_proba(XCIFARtestcal)\n"
   ]
  },
  {
   "cell_type": "code",
   "execution_count": null,
   "id": "dfe49099",
   "metadata": {},
   "outputs": [],
   "source": []
  },
  {
   "cell_type": "code",
   "execution_count": null,
   "id": "b6af9957",
   "metadata": {
    "scrolled": true
   },
   "outputs": [],
   "source": [
    "(TotCoverage,TotPower,TotnPredict,Times)=PowerAndCoverage3MethodsRandomizedWithLRT(AlphaViolin,1000,5,2000,XCIFARtestcal,yCIFARtestcal,ClassCalibratedpvalues,Classifieur_CIFAR,TabFunction,AlphaLevel,3,N=1000)"
   ]
  },
  {
   "cell_type": "code",
   "execution_count": null,
   "id": "b421fd4e",
   "metadata": {},
   "outputs": [],
   "source": [
    "\n",
    "#np.save('TotCovCIFAR_2000_5_Proc_Bperm1000_N1000.npy',TotCoverage)\n",
    "#np.save('TotPowerCIFAR_2000_5_Proc_Bperm1000_N1000.npy',TotPower)\n",
    "#np.save('TotnPredictCIFAR_2000_5_Proc_Bperm1000_N1000.npy',TotnPredict)\n",
    "#np.save('TotTimesCIFAR_2000_5_Proc_Bperm1000_N1000.npy',Times)"
   ]
  },
  {
   "cell_type": "code",
   "execution_count": null,
   "id": "73671511",
   "metadata": {},
   "outputs": [],
   "source": [
    "(TotCoverageUSPS,TotPowerUSPS,TotnPredictUSPS,TimesUSPS)=PowerAndCoverage3MethodsRandomizedWithLRT(AlphaViolin,300,3,700,XUSPSTestCal,yUSPSTestCal,ClassCalibratedpvalues,ClassifieurUSPS_SVC,TabFunction,AlphaLevel,10,N=500)"
   ]
  },
  {
   "cell_type": "code",
   "execution_count": null,
   "id": "7d09c428",
   "metadata": {},
   "outputs": [],
   "source": [
    "#np.save('TotCovUSPS_700_3_Proc_Bperm300_N500.npy',TotCoverageUSPS)\n",
    "#np.save('TotPowerUSPS_700_3_Proc_Bperm300_N500.npy',TotPowerUSPS)\n",
    "#np.save('TotnPredictUSPS_700_3_Proc_Bperm300_N500.npy',TotnPredictUSPS)\n",
    "#np.save('TotTimesUSPS_700_3_Proc_Bperm300_N500.npy',TimesUSPS)"
   ]
  },
  {
   "cell_type": "markdown",
   "id": "539da5f1",
   "metadata": {},
   "source": [
    "# Computing some bounds"
   ]
  },
  {
   "cell_type": "code",
   "execution_count": null,
   "id": "912a2559",
   "metadata": {},
   "outputs": [],
   "source": [
    "Index=[ 3316 , 8914 ,11507 , 5121 ,12781 ,10075  ,9866 , 2853 ,  493 , 3828]"
   ]
  },
  {
   "cell_type": "code",
   "execution_count": null,
   "id": "92db10d6",
   "metadata": {},
   "outputs": [],
   "source": [
    "plt.figure(figsize=(9,3))\n",
    "plt.gcf().subplots_adjust( wspace = 0, hspace = 0.5)\n",
    "    \n",
    "for i in range(10):\n",
    "    plt.subplot(2,5,i+1)\n",
    "    \n",
    "    SeeCIFAR(XCIFARtestcal[Index[i]])\n",
    "    plt.gca().set_title(LabelCIFAR[int(yCIFARtestcal[Index[i]])],fontsize=15)\n",
    "\n",
    "\n",
    "\n",
    "plt.show()"
   ]
  },
  {
   "cell_type": "code",
   "execution_count": null,
   "id": "7bb8cc68",
   "metadata": {},
   "outputs": [],
   "source": [
    "#####To Obtain Nices Pictures with LRT\n",
    "\n",
    "#TabFunction Table of procedure function without LRT\n",
    "#NameFunction Table with the name and final name is 'LRT'\n",
    "\n",
    "def VizualisationPredictionSetwithLRT(alpha,pVal,ScoreOpposite,ycal,Bperm,I,Xtest,ytest,Ncal,TabFunction,NameFunction,GeneralQuantileFunction,nClass,Label,See,Compt='0',SaveFigs=False):\n",
    "    nI=len(I)\n",
    "    ntot=Ncal+nI\n",
    "    nProc=len(TabFunction)\n",
    "    \n",
    "    \n",
    "    YPredict=np.append(np.zeros(nI),NameFunction)\n",
    "    for k in range(nI):\n",
    "        YPredict[k]=Label[int(ytest[I[k]])]\n",
    "    \n",
    "    y=np.zeros(nI)\n",
    "    NbCompt=0\n",
    "    nBoucle=nClass**nI\n",
    "    QuantileFunction=GeneralQuantileFunction(alpha,nClass,Ncal,nI,N=10**3)\n",
    "    nPredict=0\n",
    "    pValI=pVal[I]\n",
    "    while NbCompt<nBoucle:\n",
    "        SeeCurrenty=False\n",
    "        \n",
    "        \n",
    "        # Do LRT\n",
    "        (SeeyLRT,pValueLRT)=LRTIndicatorScores(alpha,Bperm,y,ycal,ScoreOpposite,nI,Ncal,ntot)\n",
    "        if SeeyLRT:\n",
    "            ToAdd=[]\n",
    "            for k in range(nI):\n",
    "                    \n",
    "                ToAdd.append(Label[int(y[k])])\n",
    "                \n",
    "            for k in range(nProc):\n",
    "                ToAdd.append(\"{:.3f}\".format(min(TabFunction[k]( pValI[np.arange(nI),y.astype(int)]),1)))\n",
    "            ToAdd.append(\"{:.3f}\".format(min(pValueLRT,1)))\n",
    "                \n",
    "            YPredict=np.vstack([YPredict,ToAdd])\n",
    "            nPredict+=1\n",
    "        \n",
    "        else:\n",
    "            #Do Other Procedure\n",
    "            for i in range(nProc):\n",
    "                Function=TabFunction[i]\n",
    "\n",
    "                if not SeeCurrenty and IndicatorPredictionSet(y, pValI,Function,QuantileFunction,nClass):\n",
    "                    SeeCurrenty=True\n",
    "\n",
    "                    ToAdd=[]\n",
    "                    for k in range(nI):\n",
    "\n",
    "                        ToAdd.append(Label[int(y[k])])\n",
    "                    for k in range(nProc):\n",
    "                        ToAdd.append(\"{:.3f}\".format(min(TabFunction[k]( pValI[np.arange(nI),y.astype(int)]),1)))\n",
    "                    ToAdd.append(\"{:.3f}\".format(min(pValueLRT,1)))\n",
    "                    \n",
    "                    YPredict=np.vstack([YPredict,ToAdd])\n",
    "                    nPredict+=1\n",
    "                   \n",
    "\n",
    "\n",
    "        y=CompteurYclass(y,nClass)\n",
    "\n",
    "        NbCompt+=1\n",
    "    \n",
    "    \n",
    "    \n",
    "    \n",
    "    \n",
    "    plt.figure(figsize=(11,3))\n",
    "\n",
    "    \n",
    "    for i in range(nI):\n",
    "        plt.subplot(1,nI,i+1)\n",
    "\n",
    "        See(Xtest[I[i]])\n",
    "        plt.gca().set_title(Label[int(ytest[I[i]])],fontsize=15)\n",
    "\n",
    "    if SaveFigs:\n",
    "        plt.savefig('Images'+Compt+'.pdf',format='pdf')\n",
    "\n",
    "    plt.show()\n",
    "\n",
    "\n",
    "    \n",
    "    \n",
    "    \n",
    "    \n",
    "    \n",
    "    if nPredict>0:\n",
    "        DataFramePval=pd.DataFrame(YPredict[1:],columns=YPredict[0])\n",
    "        #DataFramePval.sort_values(by=['Bonf.','Simes'], inplace=True,ascending=[True,True])\n",
    "        if SaveFigs:\n",
    "            \n",
    "            DataFramePval.to_latex(buf='pVal'+Compt+'.txt',index=False,formatters={\"name\": str.upper})\n",
    "\n",
    "\n",
    "        return DataFramePval\n",
    "    else:\n",
    "        return  pd.DataFrame([],columns=YPredict)\n",
    "    \n",
    "    \n",
    "    \n"
   ]
  },
  {
   "cell_type": "code",
   "execution_count": null,
   "id": "2253ed2c",
   "metadata": {},
   "outputs": [],
   "source": [
    "TabFunctionBis=[SimesFunction,BonfFunction,SimesStorey1_2,Quantile1_2,FisherFunction]\n",
    "NameProcLRT=['Simes','Bonf.','Storey','Median','Fisher','LRT']\n"
   ]
  },
  {
   "cell_type": "code",
   "execution_count": null,
   "id": "9302c4f4",
   "metadata": {},
   "outputs": [],
   "source": [
    "nCalCIFAR=2000\n",
    "J=np.random.choice(len(yCIFARtestcal),size=nCalCIFAR,replace=False)\n",
    "XtestCurr=XCIFARtestcal[Index]\n",
    "ytestCurr=yCIFARtestcal[Index]\n",
    "XcalCurr=XCIFARtestcal[J].astype(int)\n",
    "ycalCurr=yCIFARtestcal[J].astype(int)\n",
    "    \n",
    "(pValClassCIFAR,ncalClassCIFAR)=ClassCalibratedpvalues(Classifieur_CIFAR,nClassCIFAR,XcalCurr,ycalCurr,nCalCIFAR,XtestCurr,len(Index))\n",
    "ScoreOppositeCIFAR=Classifieur_CIFAR.predict_proba(XCIFARtestcal[np.concatenate((J,Index))])"
   ]
  },
  {
   "cell_type": "code",
   "execution_count": null,
   "id": "081d9746",
   "metadata": {},
   "outputs": [],
   "source": [
    "ycalCurr"
   ]
  },
  {
   "cell_type": "code",
   "execution_count": null,
   "id": "cee21518",
   "metadata": {},
   "outputs": [],
   "source": [
    "Bperm=1000\n",
    "UniI=np.arange(10).astype(int)"
   ]
  },
  {
   "cell_type": "code",
   "execution_count": null,
   "id": "565ef747",
   "metadata": {},
   "outputs": [],
   "source": [
    "pValCIFARonINDEX=VizualisationPredictionSetwithLRT(0.1,pValClassCIFAR,ScoreOppositeCIFAR,ycalCurr,Bperm,UniI,XtestCurr,ytestCurr,nCalCIFAR,TabFunctionBis,NameProcLRT,AlphaLevel,nClassCIFAR,LabelCIFAR,SeeCIFAR,Compt='3316_LRT_v10',SaveFigs=True)"
   ]
  },
  {
   "cell_type": "code",
   "execution_count": null,
   "id": "d7300a00",
   "metadata": {},
   "outputs": [],
   "source": [
    "pValCIFARonINDEX"
   ]
  },
  {
   "cell_type": "code",
   "execution_count": null,
   "id": "62127404",
   "metadata": {},
   "outputs": [],
   "source": [
    "VizualisationLowerBoundSet(0.1,pValCIFARonINDEX,10,NameProcLRT,LabelCIFAR,Compt='3316_v10',SaveFigs=True)"
   ]
  },
  {
   "cell_type": "code",
   "execution_count": null,
   "id": "3dceb250",
   "metadata": {},
   "outputs": [],
   "source": []
  }
 ],
 "metadata": {
  "kernelspec": {
   "display_name": "Python 3 (ipykernel)",
   "language": "python",
   "name": "python3"
  },
  "language_info": {
   "codemirror_mode": {
    "name": "ipython",
    "version": 3
   },
   "file_extension": ".py",
   "mimetype": "text/x-python",
   "name": "python",
   "nbconvert_exporter": "python",
   "pygments_lexer": "ipython3",
   "version": "3.10.12"
  }
 },
 "nbformat": 4,
 "nbformat_minor": 5
}
